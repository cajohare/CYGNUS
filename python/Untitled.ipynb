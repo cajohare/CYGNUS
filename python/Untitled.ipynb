{
 "cells": [
  {
   "cell_type": "code",
   "execution_count": 17,
   "metadata": {},
   "outputs": [
    {
     "name": "stdout",
     "output_type": "stream",
     "text": [
      "Progress: |--------------------------------------------------| 0.0% Complete\n",
      "Progress: |--------------------------------------------------| 1.8% Complete\n",
      "Progress: |█-------------------------------------------------| 3.5% Complete\n",
      "Progress: |██------------------------------------------------| 5.3% Complete\n",
      "Progress: |███-----------------------------------------------| 7.0% Complete\n",
      "Progress: |████----------------------------------------------| 8.8% Complete\n",
      "Progress: |█████---------------------------------------------| 10.5% Complete\n",
      "Progress: |██████--------------------------------------------| 12.3% Complete\n",
      "Progress: |███████-------------------------------------------| 14.0% Complete\n",
      "Progress: |███████-------------------------------------------| 15.8% Complete\n",
      "Progress: |████████------------------------------------------| 17.5% Complete\n",
      "Progress: |█████████-----------------------------------------| 19.3% Complete\n",
      "Progress: |██████████----------------------------------------| 21.1% Complete\n",
      "Progress: |███████████---------------------------------------| 22.8% Complete\n",
      "Progress: |████████████--------------------------------------| 24.6% Complete\n",
      "Progress: |█████████████-------------------------------------| 26.3% Complete\n",
      "Progress: |██████████████------------------------------------| 28.1% Complete\n",
      "Progress: |██████████████------------------------------------| 29.8% Complete\n",
      "Progress: |███████████████-----------------------------------| 31.6% Complete\n",
      "Progress: |████████████████----------------------------------| 33.3% Complete\n",
      "Progress: |█████████████████---------------------------------| 35.1% Complete\n",
      "Progress: |██████████████████--------------------------------| 36.8% Complete\n",
      "Progress: |███████████████████-------------------------------| 38.6% Complete\n",
      "Progress: |████████████████████------------------------------| 40.4% Complete\n",
      "Progress: |█████████████████████-----------------------------| 42.1% Complete\n",
      "Progress: |█████████████████████-----------------------------| 43.9% Complete\n",
      "Progress: |██████████████████████----------------------------| 45.6% Complete\n",
      "Progress: |███████████████████████---------------------------| 47.4% Complete\n",
      "Progress: |████████████████████████--------------------------| 49.1% Complete\n",
      "Progress: |█████████████████████████-------------------------| 50.9% Complete\n",
      "Progress: |██████████████████████████------------------------| 52.6% Complete\n",
      "Progress: |███████████████████████████-----------------------| 54.4% Complete\n",
      "Progress: |████████████████████████████----------------------| 56.1% Complete\n",
      "Progress: |████████████████████████████----------------------| 57.9% Complete\n",
      "Progress: |█████████████████████████████---------------------| 59.6% Complete\n",
      "Progress: |██████████████████████████████--------------------| 61.4% Complete\n",
      "Progress: |███████████████████████████████-------------------| 63.2% Complete\n",
      "Progress: |████████████████████████████████------------------| 64.9% Complete\n",
      "Progress: |█████████████████████████████████-----------------| 66.7% Complete\n",
      "Progress: |██████████████████████████████████----------------| 68.4% Complete\n",
      "Progress: |███████████████████████████████████---------------| 70.2% Complete\n",
      "Progress: |███████████████████████████████████---------------| 71.9% Complete\n",
      "Progress: |████████████████████████████████████--------------| 73.7% Complete\n",
      "Progress: |█████████████████████████████████████-------------| 75.4% Complete\n",
      "Progress: |██████████████████████████████████████------------| 77.2% Complete\n",
      "Progress: |███████████████████████████████████████-----------| 78.9% Complete\n",
      "Progress: |████████████████████████████████████████----------| 80.7% Complete\n",
      "Progress: |█████████████████████████████████████████---------| 82.5% Complete\n",
      "Progress: |██████████████████████████████████████████--------| 84.2% Complete\n",
      "Progress: |██████████████████████████████████████████--------| 86.0% Complete\n",
      "Progress: |███████████████████████████████████████████-------| 87.7% Complete\n",
      "Progress: |████████████████████████████████████████████------| 89.5% Complete\n",
      "Progress: |█████████████████████████████████████████████-----| 91.2% Complete\n",
      "Progress: |██████████████████████████████████████████████----| 93.0% Complete\n",
      "Progress: |███████████████████████████████████████████████---| 94.7% Complete\n",
      "Progress: |████████████████████████████████████████████████--| 96.5% Complete\n",
      "Progress: |█████████████████████████████████████████████████-| 98.2% Complete\n",
      "Progress: |██████████████████████████████████████████████████| 100.0% Complete\r"
     ]
    }
   ],
   "source": [
    "from __future__ import print_function\n",
    "\n",
    "def printProgressBar (txt,iteration, total):\n",
    "    percent = (\"{0:.\" + str(1) + \"f}\").format(100 * (iteration / float(total)))\n",
    "    filledLength = int(50 * iteration // total)\n",
    "    bar = '█' * filledLength + '-' * (50 - filledLength)\n",
    "    print txt\n",
    "    print('Progress: |%s| %s%% Complete' % (bar, percent), end='\\r')\n",
    "\n",
    "\n",
    "from time import sleep\n",
    "import sys\n",
    "\n",
    "# A List of Items\n",
    "items = list(range(0, 57))\n",
    "l = len(items)\n",
    "\n",
    "# Initial call to print 0% progress\n",
    "printProgressBar(0, l)\n",
    "for i, item in enumerate(items):\n",
    "    # Do stuff...\n",
    "    sleep(0.1)\n",
    "    # Update Progress Bar\n",
    "    printProgressBar(i + 1, l)\n"
   ]
  },
  {
   "cell_type": "code",
   "execution_count": 44,
   "metadata": {},
   "outputs": [
    {
     "name": "stdout",
     "output_type": "stream",
     "text": [
      "0123456789"
     ]
    }
   ],
   "source": [
    "from __future__ import print_function\n",
    "\n",
    "import sys, os, time\n",
    "\n",
    "for x in range(0,10):\n",
    "    print(x, sep=' ', end='')  # No need for sep here, but okay :)\n",
    "    time.sleep(1)"
   ]
  },
  {
   "cell_type": "code",
   "execution_count": 20,
   "metadata": {},
   "outputs": [
    {
     "name": "stdout",
     "output_type": "stream",
     "text": [
      "==================================================\n",
      "--------------------------------------------------\n",
      "--------------------------------------------------\n",
      "--------------------------------------------------\n",
      "0\n",
      "1\n",
      "2\n",
      "3\n",
      "4\n",
      "5\n",
      "6\n",
      "7\n",
      "8\n",
      "9\n",
      "written to:\n",
      "==================================================\n"
     ]
    }
   ],
   "source": [
    "import os\n",
    "print(\"=\"*50)\n",
    "print(\"-\"*50)\n",
    "\n",
    "# Calculate Helium limits\n",
    "print(\"-\"*50)\n",
    "for x in range(0,10):\n",
    "    print(x, end='\\r')\n",
    "print(\"-\"*50)\n",
    "for x in range(0,10):\n",
    "    print(x)\n",
    "    os.system('clear')\n",
    "    sleep(0.1)\n",
    "print(\"written to:\")\n",
    "\n",
    "print(\"=\"*50)"
   ]
  },
  {
   "cell_type": "code",
   "execution_count": null,
   "metadata": {
    "collapsed": true
   },
   "outputs": [],
   "source": []
  }
 ],
 "metadata": {
  "kernelspec": {
   "display_name": "Python 2",
   "language": "python",
   "name": "python2"
  },
  "language_info": {
   "codemirror_mode": {
    "name": "ipython",
    "version": 2
   },
   "file_extension": ".py",
   "mimetype": "text/x-python",
   "name": "python",
   "nbconvert_exporter": "python",
   "pygments_lexer": "ipython2",
   "version": "2.7.13"
  }
 },
 "nbformat": 4,
 "nbformat_minor": 2
}

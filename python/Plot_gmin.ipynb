{
 "cells": [
  {
   "cell_type": "markdown",
   "metadata": {},
   "source": [
    "# Plots"
   ]
  },
  {
   "cell_type": "code",
   "execution_count": 111,
   "metadata": {},
   "outputs": [],
   "source": [
    "import numpy as np\n",
    "import matplotlib.pyplot as plt\n",
    "from math import sin, cos, pi, sqrt\n",
    "from numpy import zeros, empty, array, loadtxt, savetxt, copy\n",
    "\n",
    "\n",
    "v0 = 233.\n",
    "vesc = 580.\n",
    "beta = 0.9\n",
    "eta = 0.2\n",
    "\n",
    "sigR = v0/sqrt(2)\n",
    "vdisR = [sigR, sigR, sigR]\n",
    "\n",
    "sigrSaus = sqrt( 3. / (2.*(3.-2.*beta)) ) * v0\n",
    "sigtSaus = sqrt( 3.*(1.-beta) / (2.*(3.-2.*beta)) ) * v0\n",
    "vdisSaus = [sigrSaus, sigtSaus, sigtSaus]\n",
    "\n",
    "Day = 61.\n",
    "\n",
    "N = 1000000\n",
    "\n",
    "mu, sigma = 0, 1/np.sqrt(2) \n",
    "x1 = np.random.normal(mu, sigma, N)\n",
    "y1 = np.random.normal(mu, sigma, N)\n",
    "z1 = np.random.normal(mu, sigma, N)"
   ]
  },
  {
   "cell_type": "code",
   "execution_count": 112,
   "metadata": {},
   "outputs": [],
   "source": [
    "def vE(Day,v0):\n",
    "    \n",
    "    uSX = 11.1\n",
    "    uSY = v0 + 12.24\n",
    "    uSZ = 7.25\n",
    "\n",
    "    n = Day + 7303.5 #Day=0 is midnight 1 Jan 2020\n",
    "    T = (n)/36525.\n",
    "    e1 = 0.9574 * pi/180.\n",
    "    L = (280.460 + 0.9856474 * n) * pi/180.\n",
    "    g = (357.528 + 0.9856003 * n) * pi/180.\n",
    "    varpi = (282.932 + 0.0000471 * n) * pi/180.\n",
    "    lam0 = varpi - 270.*pi/180.\n",
    "    l = L + 2.*e1*sin(g) +5./4.*e1*e1*sin(2.*g)\n",
    "    UEave = 29.79 #units are km/s\n",
    "\n",
    "    bX = (5.536+0.013*T) * pi/180.\n",
    "    bY = (-59.574+0.002*T) * pi/180.\n",
    "    bZ = (-29.811+0.001*T) * pi/180.\n",
    "\n",
    "    lamX = (266.840+1.397*T) * pi/180.\n",
    "    lamY = (347.340+1.375*T) * pi/180.\n",
    "    lamZ = (180.023+1.404*T) * pi/180.\n",
    "    \n",
    "    uEX = UEave * cos(bX) * ( sin(l-lamX) - e1 * cos(lamX-lam0) )\n",
    "    uEY = UEave * cos(bY) * ( sin(l-lamY) - e1 * cos(lamY-lam0) )\n",
    "    uEZ = UEave * cos(bZ) * ( sin(l-lamZ) - e1 * cos(lamZ-lam0) )\n",
    "\n",
    "    vEx = uSX+uEX\n",
    "    vEy = uSY+uEY\n",
    "    vEz = uSZ+uEZ\n",
    "    return [vEx,vEy,vEz]"
   ]
  },
  {
   "cell_type": "code",
   "execution_count": 113,
   "metadata": {
    "collapsed": true
   },
   "outputs": [],
   "source": [
    "vspeed2R = ( (sqrt(2)*vdisR[0]*x1)**2.+ (sqrt(2)*vdisR[1]*y1)**2.+ (sqrt(2)*vdisR[2]*z1)**2.)               \n",
    "fintegrandR = 1.\n",
    "fconditionR = vesc**2 >= vspeed2R\n",
    "sumNR = np.sum(fconditionR.astype(int))\n",
    "Norm1R = ( sumNR * pi**(3./2.) * 2.**(3./2.)* vdisR[0] * vdisR[1] * vdisR[2] / N )\n",
    "\n",
    "vspeed2S = ( (sqrt(2)*vdisSaus[0]*x1)**2.+ (sqrt(2)*vdisSaus[1]*y1)**2.+ (sqrt(2)*vdisSaus[2]*z1)**2.)              \n",
    "fintegrandS = 1.\n",
    "fconditionS = vesc**2 >= vspeed2S\n",
    "sumNS = np.sum(fconditionS.astype(int))\n",
    "Norm1S = ( sumNS * pi**(3./2.) * 2.**(3./2.)* vdisSaus[0] * vdisSaus[1] * vdisSaus[2] / N )\n",
    "\n",
    "ve = vE(Day,v0)\n",
    "vspeed2R = ( (sqrt(2)*vdisR[0]*x1)**2.+ (sqrt(2)*vdisR[1]*y1)**2.+ (sqrt(2)*vdisR[2]*z1)**2.)   \n",
    "vspeed2bR = ( (sqrt(2)*vdisR[0]*x1-ve[0])**2.+ (sqrt(2)*vdisR[1]*y1-ve[1])**2.+ (sqrt(2)*vdisR[2]*z1-ve[2])**2.)   \n",
    "fintegrandR = 1. / np.sqrt( vspeed2bR )\n",
    "fcondition1R = vesc**2 >= vspeed2R\n",
    "fresult1R = fcondition1R.astype(int)\n",
    "\n",
    "Lvx = range(0,851,5)\n",
    "LgvminR = []\n",
    "for ivmin in Lvx:\n",
    "    sat_all_cond = 0.\n",
    "    vmin = ivmin * 1.\n",
    "    #do the integral\n",
    "    fcondition2R = vspeed2bR>=vmin**2\n",
    "    fresult2R = fcondition2R.astype(int)\n",
    "    sat_all_cond = fresult1R*fresult2R\n",
    "    sumNR = np.sum(fintegrandR*sat_all_cond)\n",
    "    \n",
    "    int1R = ( sumNR * pi**(3./2.) * 2.**(3./2.)\n",
    "             * vdisR[0] * vdisR[1] * vdisR[2] / N )\n",
    "\n",
    "    gvminR = int1R / (Norm1R)\n",
    "\n",
    "    LgvminR.append(gvminR)\n",
    "\n",
    "\n",
    "ve = vE(Day,v0)\n",
    "vspeed2S = ( (sqrt(2)*vdisSaus[0]*x1)**2.+ (sqrt(2)*vdisSaus[1]*y1)**2.+ (sqrt(2)*vdisSaus[2]*z1)**2.)  \n",
    "vspeed2bS = ( (sqrt(2)*vdisSaus[0]*x1-ve[0])**2.+ (sqrt(2)*vdisSaus[1]*y1-ve[1])**2.+ (sqrt(2)*vdisSaus[2]*z1-ve[2])**2.)   \n",
    "fintegrandS = 1. / np.sqrt( vspeed2bS )\n",
    "fcondition1S = vesc**2 >= vspeed2S\n",
    "fresult1S = fcondition1S.astype(int)\n",
    "\n",
    "Lvx = range(0,851,5)\n",
    "LgvminS = []\n",
    "for ivmin in Lvx:\n",
    "    sat_all_cond = 0.\n",
    "    vmin = ivmin * 1.\n",
    "    #do the integral\n",
    "    fcondition2S = vspeed2bS>=vmin**2\n",
    "    fresult2S = fcondition2S.astype(int)\n",
    "    sat_all_cond = fresult1S*fresult2S\n",
    "    sumNS = np.sum(fintegrandS*sat_all_cond)\n",
    "    \n",
    "    int1S = ( sumNS * pi**(3./2.) * 2.**(3./2.)\n",
    "             * vdisSaus[0] * vdisSaus[1] * vdisSaus[2] / N )\n",
    "\n",
    "    gvminS = int1S / (Norm1S)\n",
    "\n",
    "    LgvminS.append(gvminS)\n",
    "    #print(ivmin,gvminS)\n",
    "\n",
    "\n",
    "LgvminSHMpp = (1.-eta)*np.asarray(LgvminR) + eta*np.asarray(LgvminS)"
   ]
  },
  {
   "cell_type": "code",
   "execution_count": 133,
   "metadata": {},
   "outputs": [
    {
     "data": {
      "text/plain": [
       "<matplotlib.figure.Figure at 0x1136c3f50>"
      ]
     },
     "metadata": {},
     "output_type": "display_data"
    },
    {
     "data": {
      "image/png": "[encoded data removed]",
      "text/plain": [
       "<matplotlib.figure.Figure at 0x1205ffc10>"
      ]
     },
     "metadata": {},
     "output_type": "display_data"
    }
   ],
   "source": [
    "plt.rcParams['axes.linewidth'] = 2\n",
    "fig = plt.figure(figsize=(8,7))\n",
    "ax = fig.add_subplot(111)\n",
    "plt.plot(Lvx, LgvminR,\"--\", label='Round component',linewidth=3,color='ForestGreen')\n",
    "plt.plot(Lvx, LgvminS,\"-.\",  label='Sausage component',linewidth=3,color='Magenta')\n",
    "plt.plot(Lvx, LgvminSHMpp,\"k\", label='SHM$^{++}$ with $\\eta$='+str(eta),linewidth=3,color='Blue')\n",
    "\n",
    "plt.legend(loc='upper right',fontsize=20,frameon=False)\n",
    "plt.xlabel(r\"$v_{\\rm min}$ [km/s]\",fontsize=25)\n",
    "plt.ylabel(r\"$g(v_{\\rm min})$ [s/km]\",fontsize=25)\n",
    "\n",
    "plt.rc('text', usetex=True)\n",
    "plt.rc('font', family='serif')\n",
    "plt.xticks(fontsize=15)\n",
    "plt.yticks(fontsize=15)\n",
    "ax.tick_params(direction='in',width=2,length=5)\n",
    "plt.show()\n",
    "fig.savefig('gmin.pdf')\n"
   ]
  },
  {
   "cell_type": "code",
   "execution_count": null,
   "metadata": {
    "collapsed": true
   },
   "outputs": [],
   "source": []
  },
  {
   "cell_type": "code",
   "execution_count": null,
   "metadata": {
    "collapsed": true
   },
   "outputs": [],
   "source": []
  }
 ],
 "metadata": {
  "kernelspec": {
   "display_name": "Python 2",
   "language": "python",
   "name": "python2"
  },
  "language_info": {
   "codemirror_mode": {
    "name": "ipython",
    "version": 2
   },
   "file_extension": ".py",
   "mimetype": "text/x-python",
   "name": "python",
   "nbconvert_exporter": "python",
   "pygments_lexer": "ipython2",
   "version": "2.7.13"
  }
 },
 "nbformat": 4,
 "nbformat_minor": 2
}

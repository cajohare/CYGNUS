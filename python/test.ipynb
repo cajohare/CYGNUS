{
 "cells": [
  {
   "cell_type": "code",
   "execution_count": null,
   "metadata": {},
   "outputs": [
    {
     "name": "stdout",
     "output_type": "stream",
     "text": [
      "==================================================\n",
      "CYGNUS limits\n",
      "m_chi =  0.5 sigma_p =  0.0 0.0 6.28561385271\n",
      "m_chi =  0.583899311869 sigma_p =  0.0 0.0 6.28561385271\n",
      "m_chi =  0.681876812802 sigma_p =  0.0 0.0 6.28561385271\n",
      "m_chi =  0.796294803549 sigma_p =  0.0 0.0 6.28561385271\n",
      "m_chi =  0.929911975673 sigma_p =  0.0 0.0 6.28561385271\n",
      "m_chi =  1.08594992539 sigma_p =  0.0 0.0 6.28561385271\n",
      "m_chi =  1.26817082832 sigma_p =  0.0 0.0 6.28561385271\n",
      "m_chi =  1.48096814797 sigma_p =  0.0 0.0 6.28561385271\n",
      "m_chi =  1.729472565 sigma_p =  0.0 0.0 6.28561385271\n",
      "m_chi =  2.0196756812 sigma_p =  0.0 0.0 6.28561385271\n",
      "m_chi =  2.3585744809 sigma_p =  1.36228676414e-41 4.56185746041 6.28561385271\n"
     ]
    }
   ],
   "source": [
    "import matplotlib.pyplot as plt\n",
    "import time\n",
    "from Params import *\n",
    "from WIMPFuncs import *\n",
    "from numpy import *\n",
    "from LabFuncs import *\n",
    "from Like import *\n",
    "ne = 200\n",
    "E_r = logspace(-3.0,3.0,ne)\n",
    "t = JulianDay(9,12,2018,18.0)*ones(shape=ne)\n",
    "\n",
    "xmin = 1.0e-3\n",
    "xmax = 1000.0\n",
    "ymax = 1.0e8\n",
    "ymin = 1.0e-6\n",
    "\n",
    "Nuc = He4\n",
    "HaloModel = SHM\n",
    "Loc = Boulby\n",
    "DM = WIMP(10.0,1.0e-47)\n",
    "Exposure = 1.0\n",
    "\n",
    "m_vals = logspace(log10(0.5),3.0,50)\n",
    "sigma_vals = logspace(-49.0,-40.0,500)\n",
    "Volume = 1000.0\n",
    "TotTime = 3.0\n",
    "\n",
    "\n",
    "Exposure = Volume*TotTime*(0.16/1000.0)\n",
    "Loc = Params.Boulby\n",
    "\n",
    "nam = \"Pixel\"\n",
    "\n",
    "t0 = time.time()\n",
    "\n",
    "DLHe,DLF = CYGNUSLimit(\"test/CYGNUS1000.txt\",m_vals,sigma_vals,Volume,TotTime,   ReadOut_Name=nam)\n",
    "\n",
    "t1 = time.time()\n",
    "\n",
    "print 'Time elapsed:',t1-t0\n",
    "\n"
   ]
  },
  {
   "cell_type": "code",
   "execution_count": null,
   "metadata": {
    "collapsed": true
   },
   "outputs": [],
   "source": [
    "# PLOT\n",
    "plt.rcParams['axes.linewidth'] = 2\n",
    "fig = plt.figure(figsize=(8,7))\n",
    "ax = fig.add_subplot(111)\n",
    "\n",
    "plt.loglog(m_vals,DLHe,'r-')\n",
    "plt.loglog(m_vals,DLF,'r-')\n",
    "\n",
    "data = loadtxt(\"../data/CYGNUS1000-\"+nam+\".txt\")\n",
    "m,F,He = data[0,:], data[1,:], data[2,:]\n",
    "plt.loglog(data[0,:],data[1,:],'b-')\n",
    "plt.loglog(data[0,:],data[2,:],'b-')\n",
    "\n",
    "plt.show()"
   ]
  },
  {
   "cell_type": "markdown",
   "metadata": {},
   "source": [
    "HaloModel = SHM\n",
    "Expt = Params.Detector(1.8,200.0,Params.He4,Loc,0.16*3,ne=20,nt=1,nside=0,ReadOut_Name = nam)\n",
    "\n",
    "sigma_p = 1.0e-45\n",
    "m_chi = 10.0\n",
    "Signal = Params.WIMP(m_chi,1.0e-45)\n",
    "RD_wimp = LabFuncs.BinEvents(Expt,WIMPFuncs.WIMPRate,Signal,HaloModel)\n",
    "Signal.RecoilDistribution(RD_wimp/1.0e-45)\n",
    "        \n",
    "Background = NeutrinoFuncs.GetNuFluxes(Expt.EnergyThreshold,Expt.Nucleus)\n",
    "n_bg = Background.NumberOfNeutrinos\n",
    "R_bg = Background.Normalisations\n",
    "R_bg_err = Background.Uncertainties\n",
    "RD_nu = zeros(shape=(Expt.TotalNumberOfBins,n_bg))\n",
    "for i in range(0,n_bg):\n",
    "    RD_nu[:,i] = LabFuncs.BinEvents(Expt,NeutrinoFuncs.NuRate,Background,i)\n",
    "    RD_nu[:,i] *= (1.0/R_bg[i])\n",
    "Background.RecoilDistribution(RD_nu)\n",
    "X_in1 = zeros(shape=(n_bg+1))\n",
    "N_bg = zeros(shape=Expt.TotalNumberOfBins)\n",
    "for i in range(0,n_bg):\n",
    "    N_bg = N_bg + R_bg[i]*Background.RD[:,i]\n",
    "    \n",
    "    \n",
    "\n",
    "N_signal = Signal.RD*sigma_p\n",
    "N_obs = N_signal + N_bg\n",
    "\n",
    "X_in1 = append(log10(sigma_p),R_bg)\n",
    "L1 = llhood1(X_in1,N_obs,Signal,Background)\n",
    "print(L1)\n",
    "\n",
    "X_in0 = R_bg\n",
    "L0 = llhood0(X_in0,N_obs,Signal,Background)\n",
    "print(L0)\n",
    "print 2*(L0-L1)"
   ]
  },
  {
   "cell_type": "code",
   "execution_count": 19,
   "metadata": {},
   "outputs": [
    {
     "data": {
      "text/plain": [
       "-27.727487978003321"
      ]
     },
     "execution_count": 19,
     "metadata": {},
     "output_type": "execute_result"
    }
   ],
   "source": [
    "lnGF(Background.Normalisations,Background.Normalisations,Background.Uncertainties*Background.Normalisations)"
   ]
  },
  {
   "cell_type": "code",
   "execution_count": 22,
   "metadata": {},
   "outputs": [
    {
     "data": {
      "text/plain": [
       "array([  2.39400000e+03,   1.03200000e+05,   4.28500000e+01,\n",
       "         2.63500000e+00])"
      ]
     },
     "execution_count": 22,
     "metadata": {},
     "output_type": "execute_result"
    }
   ],
   "source": [
    "Background.Uncertainties*Background.Normalisations"
   ]
  },
  {
   "cell_type": "code",
   "execution_count": null,
   "metadata": {
    "collapsed": true
   },
   "outputs": [],
   "source": []
  }
 ],
 "metadata": {
  "kernelspec": {
   "display_name": "Python 2",
   "language": "python",
   "name": "python2"
  },
  "language_info": {
   "codemirror_mode": {
    "name": "ipython",
    "version": 2
   },
   "file_extension": ".py",
   "mimetype": "text/x-python",
   "name": "python",
   "nbconvert_exporter": "python",
   "pygments_lexer": "ipython2",
   "version": "2.7.13"
  }
 },
 "nbformat": 4,
 "nbformat_minor": 2
}

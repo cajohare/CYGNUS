{
 "cells": [
  {
   "cell_type": "code",
   "execution_count": 4,
   "metadata": {},
   "outputs": [
    {
     "name": "stdout",
     "output_type": "stream",
     "text": [
      "==================================================\n",
      "CYGNUS limits:test/CYGNUS1000-Ideal.txt\n",
      "Helium...\n",
      "m_chi =  0.5 | sigma_p =  0.0 | # Signal =  0.0 | # Background =  8.45644264591\n",
      "m_chi =  0.583899311869 | sigma_p =  0.0 | # Signal =  0.0 | # Background =  8.45644264591\n",
      "m_chi =  0.681876812802 | sigma_p =  0.0 | # Signal =  0.0 | # Background =  8.45644264591\n",
      "m_chi =  0.796294803549 | sigma_p =  0.0 | # Signal =  0.0 | # Background =  8.45644264591\n",
      "m_chi =  0.929911975673 | sigma_p =  3.75967496579e-42 | # Signal =  0.533391702558 | # Background =  8.45644264591\n",
      "m_chi =  1.08594992539 | sigma_p =  2.74712078927e-43 | # Signal =  0.584959028276 | # Background =  8.45644264591\n",
      "m_chi =  1.26817082832 | sigma_p =  6.69346971296e-44 | # Signal =  0.637700929382 | # Background =  8.45644264591\n",
      "m_chi =  1.48096814797 | sigma_p =  2.57526332677e-44 | # Signal =  0.662670045102 | # Background =  8.45644264591\n"
     ]
    },
    {
     "ename": "KeyboardInterrupt",
     "evalue": "",
     "output_type": "error",
     "traceback": [
      "\u001b[0;31m---------------------------------------------------------------------------\u001b[0m",
      "\u001b[0;31mKeyboardInterrupt\u001b[0m                         Traceback (most recent call last)",
      "\u001b[0;32m<ipython-input-4-c1c8e737d01b>\u001b[0m in \u001b[0;36m<module>\u001b[0;34m()\u001b[0m\n\u001b[1;32m     24\u001b[0m \u001b[0;32mfor\u001b[0m \u001b[0mi\u001b[0m \u001b[0;32min\u001b[0m \u001b[0mrange\u001b[0m\u001b[0;34m(\u001b[0m\u001b[0;36m0\u001b[0m\u001b[0;34m,\u001b[0m\u001b[0;36m8\u001b[0m\u001b[0;34m)\u001b[0m\u001b[0;34m:\u001b[0m\u001b[0;34m\u001b[0m\u001b[0m\n\u001b[1;32m     25\u001b[0m     \u001b[0mt1\u001b[0m \u001b[0;34m=\u001b[0m \u001b[0mtime\u001b[0m\u001b[0;34m.\u001b[0m\u001b[0mtime\u001b[0m\u001b[0;34m(\u001b[0m\u001b[0;34m)\u001b[0m\u001b[0;34m\u001b[0m\u001b[0m\n\u001b[0;32m---> 26\u001b[0;31m     \u001b[0mDLHe\u001b[0m\u001b[0;34m,\u001b[0m\u001b[0mDLF\u001b[0m \u001b[0;34m=\u001b[0m \u001b[0mCYGNUSLimit\u001b[0m\u001b[0;34m(\u001b[0m\u001b[0;34m\"test/CYGNUS1000-\"\u001b[0m\u001b[0;34m+\u001b[0m\u001b[0mfname\u001b[0m\u001b[0;34m[\u001b[0m\u001b[0mi\u001b[0m\u001b[0;34m]\u001b[0m\u001b[0;34m+\u001b[0m\u001b[0;34m\".txt\"\u001b[0m\u001b[0;34m,\u001b[0m\u001b[0mm_vals\u001b[0m\u001b[0;34m,\u001b[0m\u001b[0msigma_vals\u001b[0m\u001b[0;34m,\u001b[0m\u001b[0mVolume\u001b[0m\u001b[0;34m,\u001b[0m\u001b[0mTotTime\u001b[0m\u001b[0;34m,\u001b[0m\u001b[0mnt\u001b[0m \u001b[0;34m=\u001b[0m \u001b[0;36m10\u001b[0m\u001b[0;34m,\u001b[0m\u001b[0mnside\u001b[0m\u001b[0;34m=\u001b[0m\u001b[0;36m8\u001b[0m\u001b[0;34m,\u001b[0m \u001b[0mReadOut_Name\u001b[0m\u001b[0;34m=\u001b[0m\u001b[0mfname\u001b[0m\u001b[0;34m[\u001b[0m\u001b[0mi\u001b[0m\u001b[0;34m]\u001b[0m\u001b[0;34m,\u001b[0m\u001b[0mVerbose\u001b[0m\u001b[0;34m=\u001b[0m\u001b[0mTrue\u001b[0m\u001b[0;34m)\u001b[0m\u001b[0;34m\u001b[0m\u001b[0m\n\u001b[0m\u001b[1;32m     27\u001b[0m     \u001b[0mt2\u001b[0m \u001b[0;34m=\u001b[0m \u001b[0mtime\u001b[0m\u001b[0;34m.\u001b[0m\u001b[0mtime\u001b[0m\u001b[0;34m(\u001b[0m\u001b[0;34m)\u001b[0m\u001b[0;34m\u001b[0m\u001b[0m\n\u001b[1;32m     28\u001b[0m     \u001b[0;32mprint\u001b[0m \u001b[0;34m'>>>Limit Time:'\u001b[0m\u001b[0;34m,\u001b[0m\u001b[0mt2\u001b[0m\u001b[0;34m-\u001b[0m\u001b[0mt1\u001b[0m\u001b[0;34m\u001b[0m\u001b[0m\n",
      "\u001b[0;32m/Users/ciaranohare/Work/Zaragoza/CYGNUS/fort/python/Like.py\u001b[0m in \u001b[0;36mCYGNUSLimit\u001b[0;34m(filename, m_vals, sigma_vals, Volume, TotTime, HaloModel, ne, nt, nside, Eoff, ReadOut_Name, Verbose)\u001b[0m\n\u001b[1;32m     43\u001b[0m     \u001b[0;31m# Calculate Helium limits\u001b[0m\u001b[0;34m\u001b[0m\u001b[0;34m\u001b[0m\u001b[0m\n\u001b[1;32m     44\u001b[0m     \u001b[0;32mprint\u001b[0m\u001b[0;34m(\u001b[0m\u001b[0;34m\"Helium...\"\u001b[0m\u001b[0;34m)\u001b[0m\u001b[0;34m\u001b[0m\u001b[0m\n\u001b[0;32m---> 45\u001b[0;31m     \u001b[0mDLHe\u001b[0m \u001b[0;34m=\u001b[0m \u001b[0mGetLimits\u001b[0m\u001b[0;34m(\u001b[0m\u001b[0mm_vals\u001b[0m\u001b[0;34m,\u001b[0m\u001b[0msigma_vals\u001b[0m\u001b[0;34m,\u001b[0m\u001b[0mHaloModel\u001b[0m\u001b[0;34m,\u001b[0m\u001b[0mDetector_He\u001b[0m\u001b[0;34m,\u001b[0m\u001b[0mVerbose\u001b[0m\u001b[0;34m=\u001b[0m\u001b[0mVerbose\u001b[0m\u001b[0;34m)\u001b[0m\u001b[0;34m\u001b[0m\u001b[0m\n\u001b[0m\u001b[1;32m     46\u001b[0m     \u001b[0;32mprint\u001b[0m\u001b[0;34m(\u001b[0m\u001b[0;34m\"-\"\u001b[0m\u001b[0;34m*\u001b[0m\u001b[0;36m50\u001b[0m\u001b[0;34m)\u001b[0m\u001b[0;34m\u001b[0m\u001b[0m\n\u001b[1;32m     47\u001b[0m \u001b[0;34m\u001b[0m\u001b[0m\n",
      "\u001b[0;32m/Users/ciaranohare/Work/Zaragoza/CYGNUS/fort/python/Like.py\u001b[0m in \u001b[0;36mGetLimits\u001b[0;34m(m_vals, sigma_vals, HaloModel, Expt, Verbose)\u001b[0m\n\u001b[1;32m    131\u001b[0m     \u001b[0;32mfor\u001b[0m \u001b[0mim\u001b[0m \u001b[0;32min\u001b[0m \u001b[0mrange\u001b[0m\u001b[0;34m(\u001b[0m\u001b[0;36m0\u001b[0m\u001b[0;34m,\u001b[0m\u001b[0mnm\u001b[0m\u001b[0;34m)\u001b[0m\u001b[0;34m:\u001b[0m\u001b[0;34m\u001b[0m\u001b[0m\n\u001b[1;32m    132\u001b[0m         \u001b[0mSignal\u001b[0m \u001b[0;34m=\u001b[0m \u001b[0mParams\u001b[0m\u001b[0;34m.\u001b[0m\u001b[0mWIMP\u001b[0m\u001b[0;34m(\u001b[0m\u001b[0mm_vals\u001b[0m\u001b[0;34m[\u001b[0m\u001b[0mim\u001b[0m\u001b[0;34m]\u001b[0m\u001b[0;34m,\u001b[0m\u001b[0;36m1.0e-45\u001b[0m\u001b[0;34m)\u001b[0m\u001b[0;34m\u001b[0m\u001b[0m\n\u001b[0;32m--> 133\u001b[0;31m         \u001b[0mRD_wimp\u001b[0m \u001b[0;34m=\u001b[0m \u001b[0mLabFuncs\u001b[0m\u001b[0;34m.\u001b[0m\u001b[0mBinEvents\u001b[0m\u001b[0;34m(\u001b[0m\u001b[0mExpt\u001b[0m\u001b[0;34m,\u001b[0m\u001b[0mWIMPFuncs\u001b[0m\u001b[0;34m.\u001b[0m\u001b[0mWIMPRate\u001b[0m\u001b[0;34m,\u001b[0m\u001b[0mSignal\u001b[0m\u001b[0;34m,\u001b[0m\u001b[0mHaloModel\u001b[0m\u001b[0;34m)\u001b[0m\u001b[0;34m\u001b[0m\u001b[0m\n\u001b[0m\u001b[1;32m    134\u001b[0m         \u001b[0mSignal\u001b[0m\u001b[0;34m.\u001b[0m\u001b[0mRecoilDistribution\u001b[0m\u001b[0;34m(\u001b[0m\u001b[0mRD_wimp\u001b[0m\u001b[0;34m/\u001b[0m\u001b[0;36m1.0e-45\u001b[0m\u001b[0;34m)\u001b[0m\u001b[0;34m\u001b[0m\u001b[0m\n\u001b[1;32m    135\u001b[0m \u001b[0;34m\u001b[0m\u001b[0m\n",
      "\u001b[0;32m/Users/ciaranohare/Work/Zaragoza/CYGNUS/fort/python/LabFuncs.py\u001b[0m in \u001b[0;36mBinEvents\u001b[0;34m(Expt, dRfunc, *Args)\u001b[0m\n\u001b[1;32m     49\u001b[0m         \u001b[0;32mfor\u001b[0m \u001b[0mi\u001b[0m \u001b[0;32min\u001b[0m \u001b[0mrange\u001b[0m\u001b[0;34m(\u001b[0m\u001b[0;36m0\u001b[0m\u001b[0;34m,\u001b[0m\u001b[0mnt\u001b[0m\u001b[0;34m)\u001b[0m\u001b[0;34m:\u001b[0m\u001b[0;34m\u001b[0m\u001b[0m\n\u001b[1;32m     50\u001b[0m             \u001b[0;32mfor\u001b[0m \u001b[0mj\u001b[0m \u001b[0;32min\u001b[0m \u001b[0mrange\u001b[0m\u001b[0;34m(\u001b[0m\u001b[0;36m0\u001b[0m\u001b[0;34m,\u001b[0m\u001b[0mne\u001b[0m\u001b[0;34m)\u001b[0m\u001b[0;34m:\u001b[0m\u001b[0;34m\u001b[0m\u001b[0m\n\u001b[0;32m---> 51\u001b[0;31m                 \u001b[0;32mfor\u001b[0m \u001b[0mk\u001b[0m \u001b[0;32min\u001b[0m \u001b[0mrange\u001b[0m\u001b[0;34m(\u001b[0m\u001b[0;36m0\u001b[0m\u001b[0;34m,\u001b[0m\u001b[0mnpix\u001b[0m\u001b[0;34m)\u001b[0m\u001b[0;34m:\u001b[0m\u001b[0;34m\u001b[0m\u001b[0m\n\u001b[0m\u001b[1;32m     52\u001b[0m                     \u001b[0mE_r\u001b[0m\u001b[0;34m[\u001b[0m\u001b[0mii\u001b[0m\u001b[0;34m]\u001b[0m \u001b[0;34m=\u001b[0m \u001b[0mE_bins\u001b[0m\u001b[0;34m[\u001b[0m\u001b[0mj\u001b[0m\u001b[0;34m]\u001b[0m\u001b[0;34m\u001b[0m\u001b[0m\n\u001b[1;32m     53\u001b[0m                     \u001b[0mE\u001b[0m\u001b[0;34m[\u001b[0m\u001b[0mii\u001b[0m\u001b[0;34m,\u001b[0m\u001b[0;34m:\u001b[0m\u001b[0;34m]\u001b[0m \u001b[0;34m=\u001b[0m \u001b[0mE_bins\u001b[0m\u001b[0;34m[\u001b[0m\u001b[0mj\u001b[0m\u001b[0;34m]\u001b[0m\u001b[0;34m*\u001b[0m\u001b[0mq\u001b[0m\u001b[0;34m[\u001b[0m\u001b[0mk\u001b[0m\u001b[0;34m,\u001b[0m\u001b[0;34m:\u001b[0m\u001b[0;34m]\u001b[0m\u001b[0;34m\u001b[0m\u001b[0m\n",
      "\u001b[0;31mKeyboardInterrupt\u001b[0m: "
     ]
    }
   ],
   "source": [
    "import matplotlib.pyplot as plt\n",
    "import time\n",
    "from Params import *\n",
    "from WIMPFuncs import *\n",
    "from numpy import *\n",
    "from LabFuncs import *\n",
    "from Like import *\n",
    "\n",
    "m_vals = logspace(log10(0.5),3.0,50)\n",
    "sigma_vals = logspace(-49.0,-40.0,500)\n",
    "Volume = 1000.0\n",
    "TotTime = 3.0\n",
    "fname = [\"\" for x in range(0,8)]\n",
    "fname[0] =\"Ideal\"\n",
    "fname[1] =\"Pixel\"\n",
    "fname[2] =\"Strip\"\n",
    "fname[3] =\"Optical\"\n",
    "fname[4] =\"Wire\"\n",
    "fname[5] =\"Pad\"\n",
    "fname[6] =\"Planar\"\n",
    "fname[7] =\"Nondirectional\"\n",
    "\n",
    "t0 = time.time()\n",
    "for i in range(0,8):\n",
    "    t1 = time.time()\n",
    "    DLHe,DLF = CYGNUSLimit(\"test/CYGNUS1000-\"+fname[i]+\".txt\",m_vals,sigma_vals,Volume,TotTime,nt = 10,nside=8, ReadOut_Name=fname[i],Verbose=True)\n",
    "    t2 = time.time()\n",
    "    print '>>>Limit Time:',t2-t1\n",
    "\n",
    "print 'Total Time:',t0-t2\n"
   ]
  },
  {
   "cell_type": "code",
   "execution_count": 2,
   "metadata": {},
   "outputs": [
    {
     "data": {
      "image/png": "[encoded data removed]",
      "text/plain": [
       "<matplotlib.figure.Figure at 0x10e5cd750>"
      ]
     },
     "metadata": {},
     "output_type": "display_data"
    }
   ],
   "source": [
    "# PLOT\n",
    "plt.rcParams['axes.linewidth'] = 2\n",
    "fig = plt.figure(figsize=(8,7))\n",
    "ax = fig.add_subplot(111)\n",
    "\n",
    "\n",
    "data = loadtxt(\"test/CYGNUS1000-Nondirectional.txt\")\n",
    "m,F,He = data[0,:], data[1,:], data[2,:]\n",
    "He[He==0] = 1\n",
    "F[F==0] = 1\n",
    "plt.loglog(m,minimum(He,F),'r-')\n",
    "\n",
    "data = loadtxt(\"test/CYGNUS1000-Ideal.txt\")\n",
    "m,F,He = data[0,:], data[1,:], data[2,:]\n",
    "He[He==0] = 1\n",
    "F[F==0] = 1\n",
    "plt.loglog(m,minimum(He,F),'r-')\n",
    "\n",
    "data = loadtxt(\"test/CYGNUS1000-Pixel.txt\")\n",
    "m,F,He = data[0,:], data[1,:], data[2,:]\n",
    "He[He==0] = 1\n",
    "F[F==0] = 1\n",
    "plt.loglog(m,minimum(He,F),'r-')\n",
    "\n",
    "\n",
    "data = loadtxt(\"../data/CYGNUS1000-Nondirectional.txt\")\n",
    "m,F,He = data[0,:], data[1,:], data[2,:]\n",
    "He[He==0] = 1\n",
    "F[F==0] = 1\n",
    "plt.loglog(m,minimum(He,F),'b-')\n",
    "\n",
    "data = loadtxt(\"../data/CYGNUS1000-Ideal.txt\")\n",
    "m,F,He = data[0,:], data[1,:], data[2,:]\n",
    "He[He==0] = 1\n",
    "F[F==0] = 1\n",
    "plt.loglog(m,minimum(He,F),'b-')\n",
    "\n",
    "data = loadtxt(\"../data/CYGNUS1000-Pixel.txt\")\n",
    "m,F,He = data[0,:], data[1,:], data[2,:]\n",
    "He[He==0] = 1\n",
    "F[F==0] = 1\n",
    "plt.loglog(m,minimum(He,F),'b-')\n",
    "\n",
    "\n",
    "xmin = 0.1\n",
    "xmax = 1.0e3\n",
    "ymax = 1.0e-40\n",
    "ymin = 1.0e-46\n",
    "ax.set_xlim(left=xmin, right=xmax)\n",
    "ax.set_ylim(bottom=ymin, top=ymax)\n",
    "\n",
    "plt.show()"
   ]
  },
  {
   "cell_type": "code",
   "execution_count": null,
   "metadata": {},
   "outputs": [],
   "source": [
    "nam"
   ]
  },
  {
   "cell_type": "markdown",
   "metadata": {},
   "source": [
    "HaloModel = SHM\n",
    "Expt = Params.Detector(1.8,200.0,Params.He4,Loc,0.16*3,ne=20,nt=1,nside=0,ReadOut_Name = nam)\n",
    "\n",
    "sigma_p = 1.0e-45\n",
    "m_chi = 10.0\n",
    "Signal = Params.WIMP(m_chi,1.0e-45)\n",
    "RD_wimp = LabFuncs.BinEvents(Expt,WIMPFuncs.WIMPRate,Signal,HaloModel)\n",
    "Signal.RecoilDistribution(RD_wimp/1.0e-45)\n",
    "        \n",
    "Background = NeutrinoFuncs.GetNuFluxes(Expt.EnergyThreshold,Expt.Nucleus)\n",
    "n_bg = Background.NumberOfNeutrinos\n",
    "R_bg = Background.Normalisations\n",
    "R_bg_err = Background.Uncertainties\n",
    "RD_nu = zeros(shape=(Expt.TotalNumberOfBins,n_bg))\n",
    "for i in range(0,n_bg):\n",
    "    RD_nu[:,i] = LabFuncs.BinEvents(Expt,NeutrinoFuncs.NuRate,Background,i)\n",
    "    RD_nu[:,i] *= (1.0/R_bg[i])\n",
    "Background.RecoilDistribution(RD_nu)\n",
    "X_in1 = zeros(shape=(n_bg+1))\n",
    "N_bg = zeros(shape=Expt.TotalNumberOfBins)\n",
    "for i in range(0,n_bg):\n",
    "    N_bg = N_bg + R_bg[i]*Background.RD[:,i]\n",
    "    \n",
    "    \n",
    "\n",
    "N_signal = Signal.RD*sigma_p\n",
    "N_obs = N_signal + N_bg\n",
    "\n",
    "X_in1 = append(log10(sigma_p),R_bg)\n",
    "L1 = llhood1(X_in1,N_obs,Signal,Background)\n",
    "print(L1)\n",
    "\n",
    "X_in0 = R_bg\n",
    "L0 = llhood0(X_in0,N_obs,Signal,Background)\n",
    "print(L0)\n",
    "print 2*(L0-L1)"
   ]
  },
  {
   "cell_type": "code",
   "execution_count": null,
   "metadata": {},
   "outputs": [],
   "source": [
    "lnGF(Background.Normalisations,Background.Normalisations,Background.Uncertainties*Background.Normalisations)"
   ]
  },
  {
   "cell_type": "code",
   "execution_count": null,
   "metadata": {},
   "outputs": [],
   "source": [
    "Background.Uncertainties*Background.Normalisations"
   ]
  },
  {
   "cell_type": "code",
   "execution_count": null,
   "metadata": {
    "collapsed": true
   },
   "outputs": [],
   "source": []
  }
 ],
 "metadata": {
  "kernelspec": {
   "display_name": "Python 2",
   "language": "python",
   "name": "python2"
  },
  "language_info": {
   "codemirror_mode": {
    "name": "ipython",
    "version": 2
   },
   "file_extension": ".py",
   "mimetype": "text/x-python",
   "name": "python",
   "nbconvert_exporter": "python",
   "pygments_lexer": "ipython2",
   "version": "2.7.13"
  }
 },
 "nbformat": 4,
 "nbformat_minor": 2
}

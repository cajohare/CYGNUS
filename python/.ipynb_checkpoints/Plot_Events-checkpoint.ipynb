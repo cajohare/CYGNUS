{
 "cells": [
  {
   "cell_type": "code",
   "execution_count": 1,
   "metadata": {},
   "outputs": [
    {
     "ename": "ValueError",
     "evalue": "The truth value of an array with more than one element is ambiguous. Use a.any() or a.all()",
     "output_type": "error",
     "traceback": [
      "\u001b[0;31m---------------------------------------------------------------------------\u001b[0m",
      "\u001b[0;31mValueError\u001b[0m                                Traceback (most recent call last)",
      "\u001b[0;32m<ipython-input-1-4415d77d41c7>\u001b[0m in \u001b[0;36m<module>\u001b[0;34m()\u001b[0m\n\u001b[1;32m     22\u001b[0m \u001b[0;34m\u001b[0m\u001b[0m\n\u001b[1;32m     23\u001b[0m \u001b[0mExpt\u001b[0m \u001b[0;34m=\u001b[0m \u001b[0mDetector\u001b[0m\u001b[0;34m(\u001b[0m\u001b[0mE_th\u001b[0m\u001b[0;34m,\u001b[0m\u001b[0mE_max\u001b[0m\u001b[0;34m,\u001b[0m\u001b[0mNuc\u001b[0m\u001b[0;34m,\u001b[0m\u001b[0mLoc\u001b[0m\u001b[0;34m,\u001b[0m\u001b[0mExposure\u001b[0m\u001b[0;34m)\u001b[0m\u001b[0;34m\u001b[0m\u001b[0m\n\u001b[0;32m---> 24\u001b[0;31m \u001b[0mRD_wimp\u001b[0m \u001b[0;34m=\u001b[0m \u001b[0mBinEvents\u001b[0m\u001b[0;34m(\u001b[0m\u001b[0mExpt\u001b[0m\u001b[0;34m,\u001b[0m\u001b[0mWIMPRate\u001b[0m\u001b[0;34m,\u001b[0m\u001b[0mArgs\u001b[0m\u001b[0;34m=\u001b[0m\u001b[0;34m(\u001b[0m\u001b[0mDM\u001b[0m\u001b[0;34m,\u001b[0m\u001b[0mHaloModel\u001b[0m\u001b[0;34m)\u001b[0m\u001b[0;34m)\u001b[0m\u001b[0;34m\u001b[0m\u001b[0m\n\u001b[0m",
      "\u001b[0;32m/Users/ciaranohare/Work/Zaragoza/CYGNUS/fort/python/LabFuncs.py\u001b[0m in \u001b[0;36mBinEvents\u001b[0;34m(Expt, dRfunc, Args)\u001b[0m\n\u001b[1;32m     32\u001b[0m \u001b[0;34m\u001b[0m\u001b[0m\n\u001b[1;32m     33\u001b[0m     \u001b[0;31m# DIRECTIONAL LIMITS\u001b[0m\u001b[0;34m\u001b[0m\u001b[0;34m\u001b[0m\u001b[0m\n\u001b[0;32m---> 34\u001b[0;31m     \u001b[0;32mif\u001b[0m \u001b[0mExpt\u001b[0m\u001b[0;34m.\u001b[0m\u001b[0mDirectional\u001b[0m\u001b[0;34m:\u001b[0m\u001b[0;34m\u001b[0m\u001b[0m\n\u001b[0m\u001b[1;32m     35\u001b[0m         \u001b[0mq\u001b[0m \u001b[0;34m=\u001b[0m \u001b[0mExpt\u001b[0m\u001b[0;34m.\u001b[0m\u001b[0mDirections\u001b[0m\u001b[0;34m\u001b[0m\u001b[0m\n\u001b[1;32m     36\u001b[0m         \u001b[0msig_gamma\u001b[0m \u001b[0;34m=\u001b[0m \u001b[0mExpt\u001b[0m\u001b[0;34m.\u001b[0m\u001b[0mAngularResolution\u001b[0m\u001b[0;34m\u001b[0m\u001b[0m\n",
      "\u001b[0;31mValueError\u001b[0m: The truth value of an array with more than one element is ambiguous. Use a.any() or a.all()"
     ]
    }
   ],
   "source": [
    "import matplotlib.pyplot as plt\n",
    "from Params import *\n",
    "from WIMPFuncs import *\n",
    "from numpy import *\n",
    "from LabFuncs import *\n",
    "ne = 200\n",
    "E_r = logspace(-3.0,3.0,ne)\n",
    "t = JulianDay(9,12,2018,18.0)*ones(shape=ne)\n",
    "\n",
    "xmin = 1.0e-3\n",
    "xmax = 1000.0\n",
    "ymax = 1.0e8\n",
    "ymin = 1.0e-6\n",
    "\n",
    "Nuc = He4\n",
    "HaloModel = SHM\n",
    "Loc = Boulby\n",
    "DM = WIMP(1.0,1.0e-47)\n",
    "Exposure = 1.0\n",
    "E_th = 1.0\n",
    "E_max = 200.0\n",
    "\n",
    "Expt = Detector(E_th,E_max,Nuc,Loc,Exposure)\n",
    "RD_wimp = BinEvents(Expt,WIMPRate,Args=(DM,HaloModel))\n"
   ]
  },
  {
   "cell_type": "code",
   "execution_count": null,
   "metadata": {},
   "outputs": [],
   "source": [
    "data = loadtxt(\"../pixels/xpix4.txt\")\n",
    "x_pix = zeros(shape=shape(data))\n",
    "x_pix[:,0] = data[:,0]\n",
    "x_pix[:,1] = data[:,1]\n",
    "x_pix[:,2] = data[:,2]"
   ]
  },
  {
   "cell_type": "code",
   "execution_count": null,
   "metadata": {},
   "outputs": [],
   "source": [
    "data"
   ]
  },
  {
   "cell_type": "code",
   "execution_count": null,
   "metadata": {},
   "outputs": [],
   "source": [
    "12*4**2"
   ]
  },
  {
   "cell_type": "code",
   "execution_count": null,
   "metadata": {
    "collapsed": true
   },
   "outputs": [],
   "source": []
  }
 ],
 "metadata": {
  "kernelspec": {
   "display_name": "Python 2",
   "language": "python",
   "name": "python2"
  },
  "language_info": {
   "codemirror_mode": {
    "name": "ipython",
    "version": 2
   },
   "file_extension": ".py",
   "mimetype": "text/x-python",
   "name": "python",
   "nbconvert_exporter": "python",
   "pygments_lexer": "ipython2",
   "version": "2.7.13"
  }
 },
 "nbformat": 4,
 "nbformat_minor": 2
}

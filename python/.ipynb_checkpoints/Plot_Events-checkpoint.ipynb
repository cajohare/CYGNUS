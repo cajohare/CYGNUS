{
 "cells": [
  {
   "cell_type": "code",
   "execution_count": 1,
   "metadata": {},
   "outputs": [],
   "source": [
    "import matplotlib.pyplot as plt\n",
    "from Params import *\n",
    "from WIMPFuncs import *\n",
    "from numpy import *\n",
    "from LabFuncs import *\n",
    "from Like import *\n",
    "ne = 200\n",
    "E_r = logspace(-3.0,3.0,ne)\n",
    "t = JulianDay(9,12,2018,18.0)*ones(shape=ne)\n",
    "\n",
    "xmin = 1.0e-3\n",
    "xmax = 1000.0\n",
    "ymax = 1.0e8\n",
    "ymin = 1.0e-6\n",
    "\n",
    "Nuc = He4\n",
    "HaloModel = SHM\n",
    "Loc = Boulby\n",
    "DM = WIMP(10.0,1.0e-47)\n",
    "Exposure = 1.0\n",
    "E_th = 1.0\n",
    "E_max = 200.0\n",
    "\n",
    "Exposure = 0.16*3\n",
    "\n",
    "m_vals = logspace(0.0,3.0,100)\n",
    "sigma_vals = logspace(-52.0,-42.0,100)\n",
    "Volume = 1000.0\n",
    "TotTime = 3.0\n",
    "\n",
    "\n",
    "Exposure = Volume*TotTime*(0.16/1000.0)\n",
    "Loc = Params.Boulby\n",
    "\n",
    "ne = 1\n",
    "nt = 1\n",
    "nside = 4\n",
    "ReadOut_Name = \"Ideal\"\n",
    "\n",
    "Expt = Params.Detector(3.0,200.0,F19,Loc,Exposure,ne,nt,nside,False,ReadOut_Name)\n",
    "Background = NeutrinoFuncs.GetNuFluxes(Expt.EnergyThreshold,Expt.Nucleus)\n",
    "n_bg = Background.NumberOfNeutrinos\n",
    "R_bg = Background.Normalisations\n",
    "RD_nu = zeros(shape=(Expt.TotalNumberOfBins,n_bg))\n",
    "for i in range(0,n_bg):\n",
    "    RD_nu[:,i] = LabFuncs.BinEvents(Expt,NeutrinoFuncs.NuRate,Background,i)\n",
    "    \n",
    "Signal = Params.WIMP(10.0,1.0e-45)\n",
    "Expt = Params.Detector(3.0,200.0,F19,Loc,Exposure,ne,nt,nside,False,ReadOut_Name)\n",
    "RD_wimp = LabFuncs.BinEvents(Expt,WIMPFuncs.WIMPRate,Signal,HaloModel)\n",
    "Signal.RecoilDistribution(RD_wimp/1.0e-45)\n",
    "\n",
    "RD_wimpt = RD_wimp\n",
    "RD_nut = transpose(RD_nu)\n",
    "savetxt(\"../../RD_py.txt\", vstack((RD_wimpt,RD_nut)), delimiter='\\t') \n",
    "\n",
    "\n",
    "#DLHe,DLF = CYGNUSLimit(\"test/CYGNUS1000.txt\",m_vals,sigma_vals,Volume,TotTime,ne=20,nt=10,nside=0,ReadOut_Name=\"Ideal\")\n"
   ]
  },
  {
   "cell_type": "code",
   "execution_count": 2,
   "metadata": {},
   "outputs": [
    {
     "data": {
      "text/plain": [
       "20.121046529689629"
      ]
     },
     "execution_count": 2,
     "metadata": {},
     "output_type": "execute_result"
    }
   ],
   "source": [
    "\n",
    "sum(RD_nu[:,1])"
   ]
  },
  {
   "cell_type": "code",
   "execution_count": 32,
   "metadata": {},
   "outputs": [
    {
     "data": {
      "text/plain": [
       "(38400, 4)"
      ]
     },
     "execution_count": 32,
     "metadata": {},
     "output_type": "execute_result"
    }
   ],
   "source": [
    "shape(RD_nu)\n"
   ]
  },
  {
   "cell_type": "code",
   "execution_count": 2,
   "metadata": {},
   "outputs": [
    {
     "name": "stdout",
     "output_type": "stream",
     "text": [
      "[  7.98000000e+03   5.16000000e+06   8.57000000e+01   1.05400000e+01]\n"
     ]
    },
    {
     "data": {
      "text/plain": [
       "array([  2.74710952e-02,   8.01829397e+00,   1.76691765e-04,\n",
       "         2.40416468e-04])"
      ]
     },
     "execution_count": 2,
     "metadata": {},
     "output_type": "execute_result"
    }
   ],
   "source": [
    "Exposure = Volume*TotTime*(0.16/1000.0)\n",
    "Loc = Params.Boulby\n",
    "Expt = Params.Detector(3.0,200.0,He4,Loc,Exposure,ne=20,nt=1,nside=0,Eoff=False,ReadOut_Name=\"Ideal\")\n",
    "Background = NeutrinoFuncs.GetNuFluxes(Expt.EnergyThreshold,Expt.Nucleus)\n",
    "n_bg = Background.NumberOfNeutrinos\n",
    "R_bg = Background.Normalisations\n",
    "R_bg_err = Background.Uncertainties\n",
    "print R_bg\n",
    "RD_nu = zeros(shape=(Expt.TotalNumberOfBins,n_bg))\n",
    "for i in range(0,n_bg):\n",
    "    RD_nu[:,i] = LabFuncs.BinEvents(Expt,NeutrinoFuncs.NuRate,Background,i)\n",
    "    RD_nu[:,i] *= (1.0/R_bg[i])\n",
    "Background.RecoilDistribution(RD_nu)\n",
    "N_bg = zeros(shape=Expt.TotalNumberOfBins)\n",
    "\n",
    "sum(RD_nu,0)*R_bg"
   ]
  },
  {
   "cell_type": "code",
   "execution_count": 5,
   "metadata": {},
   "outputs": [
    {
     "name": "stdout",
     "output_type": "stream",
     "text": [
      "[  7.98000000e+03   5.16000000e+06   8.57000000e+01   1.05400000e+01]\n"
     ]
    },
    {
     "data": {
      "text/plain": [
       "array([  9.85847291e-02,   2.01210465e+01,   7.72220270e-04,\n",
       "         4.09388411e-03])"
      ]
     },
     "execution_count": 5,
     "metadata": {},
     "output_type": "execute_result"
    }
   ],
   "source": [
    "Exposure = Volume*TotTime*(0.16/1000.0)\n",
    "Loc = Params.Boulby\n",
    "Expt = Params.Detector(3.0,200.0,F19,Loc,Exposure,ne=20,nt=1,nside=0,Eoff=False,ReadOut_Name=\"Ideal\")\n",
    "Background = NeutrinoFuncs.GetNuFluxes(Expt.EnergyThreshold,Expt.Nucleus)\n",
    "n_bg = Background.NumberOfNeutrinos\n",
    "R_bg = Background.Normalisations\n",
    "R_bg_err = Background.Uncertainties\n",
    "print R_bg\n",
    "RD_nu = zeros(shape=(Expt.TotalNumberOfBins,n_bg))\n",
    "for i in range(0,n_bg):\n",
    "    RD_nu[:,i] = LabFuncs.BinEvents(Expt,NeutrinoFuncs.NuRate,Background,i)\n",
    "    RD_nu[:,i] *= (1.0/R_bg[i])\n",
    "Background.RecoilDistribution(RD_nu)\n",
    "sum(RD_nu,0)*R_bg"
   ]
  },
  {
   "cell_type": "code",
   "execution_count": 8,
   "metadata": {},
   "outputs": [
    {
     "data": {
      "text/plain": [
       "0.15522772260541048"
      ]
     },
     "execution_count": 8,
     "metadata": {},
     "output_type": "execute_result"
    }
   ],
   "source": [
    "Signal = Params.WIMP(10.0,1.0e-45)\n",
    "Expt = Params.Detector(3.0,200.0,He4,Loc,Exposure,ne=20,nt=1,nside=0,Eoff=False,ReadOut_Name=\"Ideal\")\n",
    "RD_wimp = LabFuncs.BinEvents(Expt,WIMPFuncs.WIMPRate,Signal,HaloModel)\n",
    "Signal.RecoilDistribution(RD_wimp/1.0e-45)\n",
    "sum(RD_wimp)"
   ]
  },
  {
   "cell_type": "code",
   "execution_count": null,
   "metadata": {
    "collapsed": true
   },
   "outputs": [],
   "source": []
  }
 ],
 "metadata": {
  "kernelspec": {
   "display_name": "Python 2",
   "language": "python",
   "name": "python2"
  },
  "language_info": {
   "codemirror_mode": {
    "name": "ipython",
    "version": 2
   },
   "file_extension": ".py",
   "mimetype": "text/x-python",
   "name": "python",
   "nbconvert_exporter": "python",
   "pygments_lexer": "ipython2",
   "version": "2.7.13"
  }
 },
 "nbformat": 4,
 "nbformat_minor": 2
}

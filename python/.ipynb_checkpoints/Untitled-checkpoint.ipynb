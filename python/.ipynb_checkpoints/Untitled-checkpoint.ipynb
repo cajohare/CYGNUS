{
 "cells": [
  {
   "cell_type": "code",
   "execution_count": 34,
   "metadata": {},
   "outputs": [
    {
     "name": "stdout",
     "output_type": "stream",
     "text": [
      "Progress: |--------------------------------------------------| 0.0% Complete\n",
      "Progress: |--------------------------------------------------| 1.8% Complete\n",
      "Progress: |█-------------------------------------------------| 3.5% Complete\n",
      "Progress: |██------------------------------------------------| 5.3% Complete\n",
      "Progress: |███-----------------------------------------------| 7.0% Complete\n",
      "Progress: |████----------------------------------------------| 8.8% Complete\n",
      "Progress: |█████---------------------------------------------| 10.5% Complete\n",
      "Progress: |██████--------------------------------------------| 12.3% Complete\n",
      "Progress: |███████-------------------------------------------| 14.0% Complete\n",
      "Progress: |███████-------------------------------------------| 15.8% Complete\n",
      "Progress: |████████------------------------------------------| 17.5% Complete\n",
      "Progress: |█████████-----------------------------------------| 19.3% Complete\n",
      "Progress: |██████████----------------------------------------| 21.1% Complete\n",
      "Progress: |███████████---------------------------------------| 22.8% Complete\n",
      "Progress: |████████████--------------------------------------| 24.6% Complete\n",
      "Progress: |█████████████-------------------------------------| 26.3% Complete\n",
      "Progress: |██████████████------------------------------------| 28.1% Complete\n",
      "Progress: |██████████████------------------------------------| 29.8% Complete\n",
      "Progress: |███████████████-----------------------------------| 31.6% Complete\n",
      "Progress: |████████████████----------------------------------| 33.3% Complete\n",
      "Progress: |█████████████████---------------------------------| 35.1% Complete\n",
      "Progress: |██████████████████--------------------------------| 36.8% Complete\n",
      "Progress: |███████████████████-------------------------------| 38.6% Complete\n",
      "Progress: |████████████████████------------------------------| 40.4% Complete\n",
      "Progress: |█████████████████████-----------------------------| 42.1% Complete\n",
      "Progress: |█████████████████████-----------------------------| 43.9% Complete\n",
      "Progress: |██████████████████████----------------------------| 45.6% Complete\n",
      "Progress: |███████████████████████---------------------------| 47.4% Complete\n",
      "Progress: |████████████████████████--------------------------| 49.1% Complete\n",
      "Progress: |█████████████████████████-------------------------| 50.9% Complete\n",
      "Progress: |██████████████████████████------------------------| 52.6% Complete\n",
      "Progress: |███████████████████████████-----------------------| 54.4% Complete\n",
      "Progress: |████████████████████████████----------------------| 56.1% Complete\n",
      "Progress: |████████████████████████████----------------------| 57.9% Complete\n",
      "Progress: |█████████████████████████████---------------------| 59.6% Complete\n",
      "Progress: |██████████████████████████████--------------------| 61.4% Complete\n",
      "Progress: |███████████████████████████████-------------------| 63.2% Complete\n",
      "Progress: |████████████████████████████████------------------| 64.9% Complete\n",
      "Progress: |█████████████████████████████████-----------------| 66.7% Complete\n",
      "Progress: |██████████████████████████████████----------------| 68.4% Complete\n",
      "Progress: |███████████████████████████████████---------------| 70.2% Complete\n",
      "Progress: |███████████████████████████████████---------------| 71.9% Complete\n",
      "Progress: |████████████████████████████████████--------------| 73.7% Complete\n",
      "Progress: |█████████████████████████████████████-------------| 75.4% Complete\n",
      "Progress: |██████████████████████████████████████------------| 77.2% Complete\n",
      "Progress: |███████████████████████████████████████-----------| 78.9% Complete\n",
      "Progress: |████████████████████████████████████████----------| 80.7% Complete\n",
      "Progress: |█████████████████████████████████████████---------| 82.5% Complete\n",
      "Progress: |██████████████████████████████████████████--------| 84.2% Complete\n",
      "Progress: |██████████████████████████████████████████--------| 86.0% Complete\n",
      "Progress: |███████████████████████████████████████████-------| 87.7% Complete\n",
      "Progress: |████████████████████████████████████████████------| 89.5% Complete\n",
      "Progress: |█████████████████████████████████████████████-----| 91.2% Complete\n",
      "Progress: |██████████████████████████████████████████████----| 93.0% Complete\n",
      "Progress: |███████████████████████████████████████████████---| 94.7% Complete\n",
      "Progress: |████████████████████████████████████████████████--| 96.5% Complete\n",
      "Progress: |█████████████████████████████████████████████████-| 98.2% Complete\n",
      "Progress: |██████████████████████████████████████████████████| 100.0% Complete\n"
     ]
    }
   ],
   "source": [
    "def printProgressBar (iteration, total, decimals = 1, length = 100):\n",
    "    percent = (\"{0:.\" + str(decimals) + \"f}\").format(100 * (iteration / float(total)))\n",
    "    filledLength = int(length * iteration // total)\n",
    "    bar = '█' * filledLength + '-' * (length - filledLength)\n",
    "    print '{0}\\r%s |%s| %s%% %s\\r' % ('Progress:', bar, percent, 'Complete')\n",
    "\n",
    "\n",
    "from time import sleep\n",
    "import sys\n",
    "\n",
    "# A List of Items\n",
    "items = list(range(0, 57))\n",
    "l = len(items)\n",
    "\n",
    "# Initial call to print 0% progress\n",
    "printProgressBar(0, l, length = 50)\n",
    "for i, item in enumerate(items):\n",
    "    # Do stuff...\n",
    "    sleep(0.1)\n",
    "    # Update Progress Bar\n",
    "    printProgressBar(i + 1, l, prefix = 'Progress:', suffix = 'Complete', length = 50)\n"
   ]
  },
  {
   "cell_type": "code",
   "execution_count": 35,
   "metadata": {},
   "outputs": [
    {
     "name": "stdout",
     "output_type": "stream",
     "text": [
      "Fool"
     ]
    }
   ],
   "source": [
    "import sys\n",
    "import time\n",
    " \n",
    "for i in [\"Hi\", \"You\", \"Fool\"]:\n",
    "    sys.stdout.write(\"\\r\" + i)\n",
    "    sys.stdout.flush()\n",
    "    time.sleep(1)"
   ]
  },
  {
   "cell_type": "code",
   "execution_count": null,
   "metadata": {
    "collapsed": true
   },
   "outputs": [],
   "source": []
  }
 ],
 "metadata": {
  "kernelspec": {
   "display_name": "Python 2",
   "language": "python",
   "name": "python2"
  },
  "language_info": {
   "codemirror_mode": {
    "name": "ipython",
    "version": 2
   },
   "file_extension": ".py",
   "mimetype": "text/x-python",
   "name": "python",
   "nbconvert_exporter": "python",
   "pygments_lexer": "ipython2",
   "version": "2.7.13"
  }
 },
 "nbformat": 4,
 "nbformat_minor": 2
}

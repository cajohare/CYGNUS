{
 "cells": [
  {
   "cell_type": "code",
   "execution_count": 220,
   "metadata": {},
   "outputs": [
    {
     "ename": "NameError",
     "evalue": "name 'ymax' is not defined",
     "output_type": "error",
     "traceback": [
      "\u001b[0;31m---------------------------------------------------------------------------\u001b[0m",
      "\u001b[0;31mNameError\u001b[0m                                 Traceback (most recent call last)",
      "\u001b[0;32m<ipython-input-220-f044971ca782>\u001b[0m in \u001b[0;36m<module>\u001b[0;34m()\u001b[0m\n\u001b[1;32m     79\u001b[0m \u001b[0;31m# Expt limits\u001b[0m\u001b[0;34m\u001b[0m\u001b[0;34m\u001b[0m\u001b[0m\n\u001b[1;32m     80\u001b[0m \u001b[0mCRESST\u001b[0m \u001b[0;34m=\u001b[0m \u001b[0mloadtxt\u001b[0m\u001b[0;34m(\u001b[0m\u001b[0;34m\"../data/WIMPLimits/SI/CRESST.txt\"\u001b[0m\u001b[0;34m)\u001b[0m\u001b[0;34m\u001b[0m\u001b[0m\n\u001b[0;32m---> 81\u001b[0;31m \u001b[0mplt\u001b[0m\u001b[0;34m.\u001b[0m\u001b[0mfill_between\u001b[0m\u001b[0;34m(\u001b[0m\u001b[0mCRESST\u001b[0m\u001b[0;34m[\u001b[0m\u001b[0;34m:\u001b[0m\u001b[0;34m,\u001b[0m\u001b[0;36m0\u001b[0m\u001b[0;34m]\u001b[0m\u001b[0;34m,\u001b[0m \u001b[0mCRESST\u001b[0m\u001b[0;34m[\u001b[0m\u001b[0;34m:\u001b[0m\u001b[0;34m,\u001b[0m\u001b[0;36m1\u001b[0m\u001b[0;34m]\u001b[0m\u001b[0;34m,\u001b[0m\u001b[0medgecolor\u001b[0m\u001b[0;34m=\u001b[0m\u001b[0mNone\u001b[0m\u001b[0;34m,\u001b[0m\u001b[0my2\u001b[0m\u001b[0;34m=\u001b[0m\u001b[0mymax\u001b[0m\u001b[0;34m,\u001b[0m\u001b[0mfacecolor\u001b[0m\u001b[0;34m=\u001b[0m\u001b[0;34m[\u001b[0m\u001b[0;36m0.74\u001b[0m\u001b[0;34m,\u001b[0m \u001b[0;36m0.56\u001b[0m\u001b[0;34m,\u001b[0m \u001b[0;36m0.56\u001b[0m\u001b[0;34m]\u001b[0m\u001b[0;34m)\u001b[0m\u001b[0;34m\u001b[0m\u001b[0m\n\u001b[0m\u001b[1;32m     82\u001b[0m \u001b[0mplt\u001b[0m\u001b[0;34m.\u001b[0m\u001b[0mplot\u001b[0m\u001b[0;34m(\u001b[0m\u001b[0mCRESST\u001b[0m\u001b[0;34m[\u001b[0m\u001b[0;34m:\u001b[0m\u001b[0;34m,\u001b[0m\u001b[0;36m0\u001b[0m\u001b[0;34m]\u001b[0m\u001b[0;34m,\u001b[0m \u001b[0mCRESST\u001b[0m\u001b[0;34m[\u001b[0m\u001b[0;34m:\u001b[0m\u001b[0;34m,\u001b[0m\u001b[0;36m1\u001b[0m\u001b[0;34m]\u001b[0m\u001b[0;34m,\u001b[0m\u001b[0mcolor\u001b[0m\u001b[0;34m=\u001b[0m\u001b[0;34m[\u001b[0m\u001b[0;36m0.8\u001b[0m\u001b[0;34m,\u001b[0m \u001b[0;36m0.25\u001b[0m\u001b[0;34m,\u001b[0m \u001b[0;36m0.33\u001b[0m\u001b[0;34m]\u001b[0m\u001b[0;34m,\u001b[0m\u001b[0mlinewidth\u001b[0m\u001b[0;34m=\u001b[0m\u001b[0;36m3\u001b[0m\u001b[0;34m)\u001b[0m\u001b[0;34m\u001b[0m\u001b[0m\n\u001b[1;32m     83\u001b[0m \u001b[0mplt\u001b[0m\u001b[0;34m.\u001b[0m\u001b[0mtext\u001b[0m\u001b[0;34m(\u001b[0m\u001b[0;36m0.14\u001b[0m\u001b[0;34m,\u001b[0m\u001b[0;36m2.0e-38\u001b[0m\u001b[0;34m,\u001b[0m\u001b[0;34mr\"{\\bf CRESST}\"\u001b[0m\u001b[0;34m,\u001b[0m\u001b[0mcolor\u001b[0m\u001b[0;34m=\u001b[0m\u001b[0;34m[\u001b[0m\u001b[0;36m0.8\u001b[0m\u001b[0;34m,\u001b[0m \u001b[0;36m0.25\u001b[0m\u001b[0;34m,\u001b[0m \u001b[0;36m0.33\u001b[0m\u001b[0;34m]\u001b[0m\u001b[0;34m,\u001b[0m\u001b[0mfontsize\u001b[0m\u001b[0;34m=\u001b[0m\u001b[0;36m20\u001b[0m\u001b[0;34m,\u001b[0m\u001b[0mrotation\u001b[0m\u001b[0;34m=\u001b[0m\u001b[0;36m0\u001b[0m\u001b[0;34m)\u001b[0m\u001b[0;34m\u001b[0m\u001b[0m\n",
      "\u001b[0;31mNameError\u001b[0m: name 'ymax' is not defined"
     ]
    }
   ],
   "source": [
    "from numpy import *\n",
    "import matplotlib.pyplot as plt\n",
    "import matplotlib.cm as cm\n",
    "from scipy.ndimage.filters import gaussian_filter1d\n",
    "import matplotlib.colors as colors\n",
    "\n",
    "cmap = plt.get_cmap('Reds')\n",
    "my_cmap = colors.LinearSegmentedColormap.from_list(\n",
    "        'trunc({n},{a:.2f},{b:.2f})'.format(n=cmap.name, a=0, b=0.9),\n",
    "        cmap(flipud(linspace(0, 0.9, 10))))\n",
    "my_cmap.set_bad('white')\n",
    "my_cmap.set_over('white')\n",
    "\n",
    "plt.rcParams['axes.linewidth'] = 2.5\n",
    "plt.rc('text', usetex=True)\n",
    "plt.rc('font', family='serif',size=25)\n",
    "fig = plt.figure(figsize=(13,12))\n",
    "\n",
    "i = 30\n",
    "\n",
    "# Contour plot\n",
    "#ax = fig.add_subplot(2,2,1)\n",
    "data = loadtxt('../code/nuTest-F-Low.txt')\n",
    "#Nsig = flipud(transpose(loadtxt('../code/nuTest-F-Low-Nsig.txt')))\n",
    "#Nbg = flipud(transpose(loadtxt('../code/nuTest-F-Low-Nbg.txt')))\n",
    "sig = data[0,1:]\n",
    "m = data[1:,0]\n",
    "n = size(m)\n",
    "Ex = flipud(transpose((data[1:,1:])))\n",
    "DY = zeros(shape=shape(Ex))\n",
    "for j in range(0,n):\n",
    "    #y = log10(Ex[:,j])\n",
    "    y = gaussian_filter1d(log10(Ex[:,j]),sigma=3)\n",
    "    dy = gradient(y)\n",
    "    dy[isnan(dy)] = 0.0\n",
    "    dy[abs(dy)==inf] = 0.0\n",
    "    DY[:,j] = gradient(y,log10(sig[2])-log10(sig[1]))\n",
    "plt.contourf(m,sig,DY,300,vmin=-3.0,vmax=-2.0,cmap=my_cmap)\n",
    "plt.contour(m,sig,DY,levels=[-2.0])\n",
    "\n",
    "nu_F = loadtxt(\"../data/WIMPLimits/SI/nufloor-F.txt\")\n",
    "plt.plot(nu_F[:,0],nu_F[:,1],'r-')\n",
    "nu_F = loadtxt(\"../data/WIMPLimits/SI/nufloor-Xe.txt\")\n",
    "plt.plot(nu_F[:,0],nu_F[:,1],'r-')\n",
    "\n",
    "xmin = 0.01\n",
    "xmax = 1.0e4\n",
    "ymax = 1.0e-36\n",
    "ymin = 1.0e-51\n",
    "plt.xlim([xlim,xmax])\n",
    "plt.ylim([ymin,ymax])\n",
    "plt.yscale('log')\n",
    "plt.xscale('log')\n",
    "\n",
    "\n",
    "#####\n",
    "# Expt limits\n",
    "CRESST = loadtxt(\"../data/WIMPLimits/SI/CRESST.txt\")\n",
    "plt.fill_between(CRESST[:,0], CRESST[:,1],edgecolor=None,y2=ymax,facecolor=[0.74, 0.56, 0.56])\n",
    "plt.plot(CRESST[:,0], CRESST[:,1],color=[0.8, 0.25, 0.33],linewidth=3)\n",
    "plt.text(0.14,2.0e-38,r\"{\\bf CRESST}\",color=[0.8, 0.25, 0.33],fontsize=20,rotation=0)\n",
    "\n",
    "CDMSLite = loadtxt(\"../data/WIMPLimits/SI/CDMSLite.txt\")\n",
    "plt.fill_between(CDMSLite[:,0], CDMSLite[:,1],edgecolor=None,y2=ymax,facecolor=[0.27, 0.51, 0.71])\n",
    "plt.plot(CDMSLite[:,0], CDMSLite[:,1],color=\"blue\",linewidth=3)\n",
    "plt.text(0.35,1.0e-39,r\"{\\bf CDMSlite}\",color=\"blue\",fontsize=20,rotation=0)\n",
    "\n",
    "DarkSide = loadtxt(\"../data/WIMPLimits/SI/DarkSide.txt\")\n",
    "plt.fill_between(DarkSide[:,0], DarkSide[:,1],edgecolor=None,y2=ymax,facecolor=\"forestgreen\",alpha=0.5)\n",
    "plt.plot(DarkSide[:,0], DarkSide[:,1],color=\"green\",linewidth=3)\n",
    "plt.text(1.5,3.0e-42,r\"{\\bf DarkSide}\",color=\"green\",fontsize=20,rotation=-35)\n",
    "\n",
    "PandaX = loadtxt(\"../data/WIMPLimits/SI/PandaX.txt\")\n",
    "plt.fill_between(PandaX[:,0], PandaX[:,1],edgecolor=None,y2=ymax,facecolor=\"teal\")\n",
    "plt.plot(PandaX[:,0], PandaX[:,1],color=\"navy\",linewidth=3)\n",
    "plt.text(2300.0,5.0e-44,r\"{\\bf PandaX}\",color=\"navy\",fontsize=20,rotation=16)\n",
    "\n",
    "XENON1T = loadtxt(\"../data/WIMPLimits/SI/XENON1T.txt\")\n",
    "plt.fill_between(XENON1T[:,0], XENON1T[:,1],edgecolor=None,y2=ymax,facecolor=[0.0, 0.62, 0.38])\n",
    "plt.plot(XENON1T[:,0], XENON1T[:,1],color=\"darkgreen\",linewidth=3)\n",
    "plt.text(2300.0,1.5e-44,r\"{\\bf Xenon1T}\",color=\"darkgreen\",fontsize=20,rotation=16)\n",
    "\n",
    "EDELWEISS = loadtxt(\"../data/WIMPLimits/SI/EDELWEISS.txt\")\n",
    "plt.plot(EDELWEISS[:,0], EDELWEISS[:,1],color=[0.67, 0.31, 0.32],linewidth=3)\n",
    "plt.text(10.0,1.0e-43,r\"{\\bf EDELWEISS}\",color=[0.67, 0.31, 0.32],fontsize=13,rotation=-20)\n",
    "\n",
    "PICO60 = loadtxt(\"../data/WIMPLimits/SI/PICO60.txt\")\n",
    "plt.plot(PICO60[:,0], PICO60[:,1],color=[0.5, 0.0, 0.13],linewidth=3)\n",
    "plt.text(2000.0,2.0e-42,r\"{\\bf PICO60}\",color=[0.5, 0.0, 0.13],fontsize=20,rotation=18)\n",
    "\n",
    "PICO2L = loadtxt(\"../data/WIMPLimits/SI/PICO2L.txt\")\n",
    "plt.plot(PICO2L[:,0], PICO2L[:,1],color=[0.5, 0.0, 0.13],linewidth=3)\n",
    "plt.text(2000.0,2.3e-40,r\"{\\bf PICO2L}\",color=[0.5, 0.0, 0.13],fontsize=20,rotation=18)\n",
    "\n",
    "\n",
    "DAMA1 = loadtxt(\"../data/WIMPLimits/SI/DAMA1.txt\")\n",
    "DAMA2 = loadtxt(\"../data/WIMPLimits/SI/DAMA2.txt\")\n",
    "plt.fill_between(DAMA1[:,0], DAMA1[:,1],edgecolor=None,y2=ymax,facecolor=[ 0.615,  0.594,  0.825])\n",
    "plt.fill_between(DAMA2[:,0], DAMA2[:,1],edgecolor=None,y2=ymax,facecolor=[ 0.615,  0.594,  0.825])\n",
    "plt.plot(DAMA1[:,0], DAMA1[:,1],color=[0.32, 0.18, 0.5],linewidth=3)\n",
    "plt.plot(DAMA2[:,0], DAMA2[:,1],color=[0.32, 0.18, 0.5],linewidth=3)\n",
    "plt.text(22.0,1e-39,r\"{\\bf DAMA}\",color=[0.32, 0.18, 0.5],fontsize=20)\n",
    "plt.arrow(0.48, 0.79, -0.04, -0.04, transform=ax.transAxes,\n",
    "          length_includes_head=True,\n",
    "          head_width=0.01, head_length=0.01, overhang=0.4,\n",
    "          edgecolor=[0.32, 0.18, 0.5],facecolor=[0.32, 0.18, 0.5])\n",
    "plt.arrow(0.54, 0.79, 0.04, -0.08, transform=ax.transAxes,\n",
    "          length_includes_head=True,\n",
    "          head_width=0.01, head_length=0.01, overhang=0.4,\n",
    "          edgecolor=[0.32, 0.18, 0.5],facecolor=[0.32, 0.18, 0.5])\n",
    "\n",
    "COSINE = loadtxt(\"../data/WIMPLimits/SI/COSINE-100.txt\")\n",
    "plt.plot(COSINE[:,0], COSINE[:,1],color=\"gold\",linewidth=3)\n",
    "plt.text(1200.0,5.0e-41,r\"{\\bf COSINE-100}\",color=\"gold\",fontsize=20,rotation=18)\n",
    "plt.show()"
   ]
  },
  {
   "cell_type": "code",
   "execution_count": 204,
   "metadata": {},
   "outputs": [
    {
     "data": {
      "image/png": "[encoded data removed]",
      "text/plain": [
       "<matplotlib.figure.Figure at 0x10c4c8210>"
      ]
     },
     "metadata": {},
     "output_type": "display_data"
    }
   ],
   "source": [
    "# Single mass\n",
    "i = 50\n",
    "y = log10(Ex[:,i])\n",
    "x = log10(sig)\n",
    "dy = gradient(y,x[2]-x[1])\n",
    "dy[isnan(dy)] = 0.0\n",
    "plt.plot(x,dy,'b-')\n",
    "plt.plot(x[argmin(dy)],amin(dy),'b.',markersize=20)\n",
    "\n",
    "#dy = savgol_filter(dy,25,3)\n",
    "dy = gaussian_filter1d(dy, sigma=3)\n",
    "dy[isnan(dy)] = 0.0\n",
    "dy[abs(dy)==inf] = 0.0\n",
    "plt.plot(x,dy,'r-')\n",
    "plt.plot(x[argmin(dy)],amin(dy),'r.',markersize=20)\n",
    "\n",
    "plt.title('mass = '+str(m[i]))\n",
    "\n",
    "plt.show()"
   ]
  },
  {
   "cell_type": "code",
   "execution_count": 122,
   "metadata": {},
   "outputs": [
    {
     "data": {
      "image/png": "[encoded data removed]",
      "text/plain": [
       "<matplotlib.figure.Figure at 0x10b151ad0>"
      ]
     },
     "metadata": {},
     "output_type": "display_data"
    }
   ],
   "source": [
    "from scipy.ndimage.filters import gaussian_filter1d\n",
    "\n",
    "ysmoothed = gaussian_filter1d(y, sigma=2)\n",
    "plt.plot(y,x,'k.')\n",
    "plt.plot(ysmoothed,x)\n",
    "plt.show()\n"
   ]
  },
  {
   "cell_type": "code",
   "execution_count": 141,
   "metadata": {},
   "outputs": [
    {
     "data": {
      "text/plain": [
       "[]"
      ]
     },
     "execution_count": 141,
     "metadata": {},
     "output_type": "execute_result"
    }
   ],
   "source": [
    "flipud(range(ns-1,1)"
   ]
  },
  {
   "cell_type": "code",
   "execution_count": 202,
   "metadata": {},
   "outputs": [
    {
     "data": {
      "image/png": "[encoded data removed]",
      "text/plain": [
       "<matplotlib.figure.Figure at 0x112b6ad50>"
      ]
     },
     "metadata": {},
     "output_type": "display_data"
    }
   ],
   "source": [
    "plt.contourf(DY,vmin=-5.0)\n",
    "plt.show()"
   ]
  },
  {
   "cell_type": "code",
   "execution_count": null,
   "metadata": {
    "collapsed": true
   },
   "outputs": [],
   "source": []
  }
 ],
 "metadata": {
  "kernelspec": {
   "display_name": "Python 2",
   "language": "python",
   "name": "python2"
  },
  "language_info": {
   "codemirror_mode": {
    "name": "ipython",
    "version": 2
   },
   "file_extension": ".py",
   "mimetype": "text/x-python",
   "name": "python",
   "nbconvert_exporter": "python",
   "pygments_lexer": "ipython2",
   "version": "2.7.6"
  }
 },
 "nbformat": 4,
 "nbformat_minor": 2
}
